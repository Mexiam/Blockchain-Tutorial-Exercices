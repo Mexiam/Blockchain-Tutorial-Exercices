{
 "cells": [
  {
   "cell_type": "markdown",
   "id": "3ff19be3",
   "metadata": {},
   "source": [
    "# Exercice 1 "
   ]
  },
  {
   "cell_type": "markdown",
   "id": "bc0b1208",
   "metadata": {},
   "source": [
    "*I made this exercice with code of the lab 5 : [Link for Lab5](lab/lab5/lab5.ipynb)*"
   ]
  },
  {
   "cell_type": "markdown",
   "id": "ff25bcba",
   "metadata": {},
   "source": [
    "### Question 1"
   ]
  },
  {
   "cell_type": "code",
   "execution_count": 48,
   "id": "20b5f8f6",
   "metadata": {},
   "outputs": [
    {
     "name": "stdout",
     "output_type": "stream",
     "text": [
      "b'\\x80\\x04\\x95\\xba\\x00\\x00\\x00\\x00\\x00\\x00\\x00}\\x94(\\x8c\\ttimestamp\\x94GA\\xd7$\\xfdJfA\\xe1\\x8c\\x0ctransactions\\x94]\\x94(\\x8c\\x01a\\x94\\x8c\\x01b\\x94\\x8c\\x01c\\x94e\\x8c\\tprev_hash\\x94\\x8c@00574faf29dbb37a3b12c2f8f5c05cf03c708313d4ad1d5d968cd2438beea104\\x94\\x8c\\x0bmerkle_root\\x94\\x8c!aa0522a507b6499cb3512494908ac9220\\x94u.'\n",
      "533f71d73de65feec417737ce40b8cbf7cfe150c81d5703fb28cf07cef0618f1\n"
     ]
    }
   ],
   "source": [
    "import hashlib\n",
    "import pickle\n",
    "import secrets\n",
    "\n",
    "# create a new block using sample values\n",
    "block = {   'timestamp': 1553200425.597771,\n",
    "            'transactions': ['a','b','c'],\n",
    "            'prev_hash': '00574faf29dbb37a3b12c2f8f5c05cf03c708313d4ad1d5d968cd2438beea104',\n",
    "            'merkle_root': 'aa0522a507b6499cb3512494908ac9220',\n",
    "        }\n",
    "\n",
    "# pickle the block\n",
    "pickled_block = pickle.dumps(block)\n",
    "print(pickled_block)\n",
    "\n",
    "# hash the pickled block\n",
    "hashed_block = hashlib.sha256(pickled_block).hexdigest()\n",
    "print(hashed_block)"
   ]
  },
  {
   "cell_type": "code",
   "execution_count": null,
   "id": "6fe5aabf",
   "metadata": {},
   "outputs": [
    {
     "name": "stdout",
     "output_type": "stream",
     "text": [
      "Nonce: 3644\n",
      "Proof-of-work: 000356fba0522e779381a0cb909685b6823554f6bbd0ebda73c5fb0bb70915e7\n",
      "Elapsed time: 0.022222280502319336\n"
     ]
    }
   ],
   "source": [
    "# Easy version of proof-of-work algorithm\n",
    "# target value is set very high to make it easy to find a valid nonce \n",
    "import time\n",
    "\n",
    "target = int(\"0x000fffffffffffffffffffffffffffffffffffffffffffffffffffffffffffff\", 16) # target value (hex number)\n",
    "nonce = 1\n",
    "block_found = False\n",
    "# generate random data to append to a block\n",
    "random_data = secrets.token_bytes(4)\n",
    "\n",
    "# loop\n",
    "start = time.time()\n",
    "while block_found == False:\n",
    "    \n",
    "    work = hashlib.sha256(bytes(nonce) + pickled_block + random_data)\n",
    "    \n",
    "    # check to see if the hash meets the target value (hex number)\n",
    "    if int(work.hexdigest(), 16) < target:\n",
    "        block_found = True\n",
    "        end = time.time()\n",
    "        \n",
    "        # output some data\n",
    "        print('Nonce: ' + str(nonce))\n",
    "        print('Proof-of-work: ' + work.hexdigest())\n",
    "        print('Elapsed time: ' + str(end - start))\n",
    "        \n",
    "    nonce += 1"
   ]
  },
  {
   "cell_type": "code",
   "execution_count": 52,
   "id": "a20f1741",
   "metadata": {},
   "outputs": [
    {
     "name": "stdout",
     "output_type": "stream",
     "text": [
      "Nonce: 174247\n",
      "Proof-of-work: 00001c9936674b7693bba030b852108b3c2892374c747a0f52b73f9f13d0c874\n",
      "Elapsed time: 14.731738567352295\n"
     ]
    }
   ],
   "source": [
    "# Medium version of proof-of-work algorithm\n",
    "# target value is set lower to make it harder to find a valid nonce\n",
    "\n",
    "\n",
    "target = int(\"0x0000ffffffffffffffffffffffffffffffffffffffffffffffffffffffffffff\", 16) # target value (hex number)\n",
    "nonce = 1\n",
    "block_found = False\n",
    "random_data = secrets.token_bytes(4)\n",
    "\n",
    "# loop\n",
    "start = time.time()\n",
    "while block_found == False:\n",
    "    \n",
    "    work = hashlib.sha256(bytes(nonce) + pickled_block + random_data)\n",
    "    \n",
    "    # check to see if the hash meets the target value (hex number)\n",
    "    if int(work.hexdigest(), 16) < target:\n",
    "        block_found = True\n",
    "        end = time.time()\n",
    "        # output some data\n",
    "\n",
    "        print('Nonce: ' + str(nonce))\n",
    "        print('Proof-of-work: ' + work.hexdigest())\n",
    "        print('Elapsed time: ' + str(end - start))\n",
    "        \n",
    "    nonce += 1"
   ]
  },
  {
   "cell_type": "code",
   "execution_count": 53,
   "id": "e16eb7fe",
   "metadata": {},
   "outputs": [
    {
     "ename": "KeyboardInterrupt",
     "evalue": "",
     "output_type": "error",
     "traceback": [
      "\u001b[31m---------------------------------------------------------------------------\u001b[39m",
      "\u001b[31mKeyboardInterrupt\u001b[39m                         Traceback (most recent call last)",
      "\u001b[36mCell\u001b[39m\u001b[36m \u001b[39m\u001b[32mIn[53]\u001b[39m\u001b[32m, line 13\u001b[39m\n\u001b[32m     10\u001b[39m start = time.time()\n\u001b[32m     11\u001b[39m \u001b[38;5;28;01mwhile\u001b[39;00m block_found == \u001b[38;5;28;01mFalse\u001b[39;00m:\n\u001b[32m---> \u001b[39m\u001b[32m13\u001b[39m     work = \u001b[43mhashlib\u001b[49m\u001b[43m.\u001b[49m\u001b[43msha256\u001b[49m\u001b[43m(\u001b[49m\u001b[38;5;28;43mbytes\u001b[39;49m\u001b[43m(\u001b[49m\u001b[43mnonce\u001b[49m\u001b[43m)\u001b[49m\u001b[43m \u001b[49m\u001b[43m+\u001b[49m\u001b[43m \u001b[49m\u001b[43mpickled_block\u001b[49m\u001b[43m \u001b[49m\u001b[43m+\u001b[49m\u001b[43m \u001b[49m\u001b[43mrandom_data\u001b[49m\u001b[43m)\u001b[49m\n\u001b[32m     15\u001b[39m     \u001b[38;5;66;03m# check to see if the hash meets the target value (hex number)\u001b[39;00m\n\u001b[32m     16\u001b[39m     \u001b[38;5;28;01mif\u001b[39;00m \u001b[38;5;28mint\u001b[39m(work.hexdigest(), \u001b[32m16\u001b[39m) < target:\n",
      "\u001b[31mKeyboardInterrupt\u001b[39m: "
     ]
    }
   ],
   "source": [
    "# Hard version of proof-of-work algorithm\n",
    "# target value is set even more lower to make it harder to find a valid nonce\n",
    "random_data = secrets.token_bytes(4)\n",
    "\n",
    "target = int(\"0x00000fffffffffffffffffffffffffffffffffffffffffffffffffffffffffff\", 16) # target value (hex number)\n",
    "nonce = 1\n",
    "block_found = False\n",
    "\n",
    "# loop\n",
    "start = time.time()\n",
    "while block_found == False:\n",
    "    \n",
    "    work = hashlib.sha256(bytes(nonce) + pickled_block + random_data)\n",
    "    \n",
    "    # check to see if the hash meets the target value (hex number)\n",
    "    if int(work.hexdigest(), 16) < target:\n",
    "        block_found = True\n",
    "        end = time.time()\n",
    "        # output some data\n",
    "\n",
    "        print('Nonce: ' + str(nonce))\n",
    "        print('Proof-of-work: ' + work.hexdigest())\n",
    "        print('Elapsed time: ' + str(end - start))\n",
    "        \n",
    "    nonce += 1"
   ]
  },
  {
   "cell_type": "markdown",
   "id": "847ccf29",
   "metadata": {},
   "source": [
    "### Question 2"
   ]
  },
  {
   "cell_type": "code",
   "execution_count": 54,
   "id": "bc2cad39",
   "metadata": {},
   "outputs": [],
   "source": [
    "\n",
    "# creation of a function to encapsulate the proof-of-work algorithm\n",
    "def proof_of_work(pickled_block, target, nonce = 1):\n",
    "    random_data = secrets.token_bytes(4)\n",
    "    block_found = False\n",
    "    start = time.time()\n",
    "    timer = 0\n",
    "    while block_found == False:\n",
    "    \n",
    "        work = hashlib.sha256(bytes(nonce) + pickled_block + random_data)\n",
    "    \n",
    "        # check to see if the hash meets the target value (hex number)\n",
    "        if int(work.hexdigest(), 16) < target:\n",
    "            block_found = True\n",
    "            end = time.time()\n",
    "            timer = end - start\n",
    "            # output some data\n",
    "\n",
    "            print('Nonce: ' + str(nonce))\n",
    "            print('Proof-of-work: ' + work.hexdigest())\n",
    "            print('Elapsed time: ' + str(timer))\n",
    "        \n",
    "        nonce += 1\n",
    "    return timer\n",
    "\n",
    "# TEST\n",
    "#proof_of_work(pickled_block, int(\"0x0000ffffffffffffffffffffffffffffffffffffffffffffffffffffffffffff\", 16))"
   ]
  },
  {
   "cell_type": "code",
   "execution_count": 84,
   "id": "42bec686",
   "metadata": {},
   "outputs": [
    {
     "name": "stdout",
     "output_type": "stream",
     "text": [
      "Block n°1\n",
      "Nonce: 131360\n",
      "Proof-of-work: 000042816c1e18b1238d9231670591fe4ebb763719bf200e5ef166b6d4df7549\n",
      "Elapsed time: 8.331515312194824\n",
      "ratio : 1.6663030624389648\n",
      "New target: 0x1aa92d6666666600000000000000000000000000000000000000000000000\n",
      "--------------\n",
      "Block n°2\n",
      "Nonce: 44147\n",
      "Proof-of-work: 00012c3d464b0270a7dc1320460303b331adef4112cb0cc5a71f5a66cff48cb4\n",
      "Elapsed time: 1.0213215351104736\n",
      "ratio : 0.20426430702209472\n",
      "New target: 0x57223deee9e8f40000000000000000000000000000000000000000000000\n",
      "--------------\n",
      "Block n°3\n",
      "Nonce: 128330\n",
      "Proof-of-work: 0000190b206645504eabe284d63cbbf0722defa46b322ccda36859804898fcfb\n",
      "Elapsed time: 7.990026950836182\n",
      "ratio : 1.5980053901672364\n",
      "New target: 0x8b3d7ead666b080000000000000000000000000000000000000000000000\n",
      "--------------\n",
      "Block n°4\n",
      "Nonce: 103289\n",
      "Proof-of-work: 00004ec01928241b2ae8b8ad6ea32eac5f91b98b59a04e84824c7e06f58c8820\n",
      "Elapsed time: 5.231374740600586\n",
      "ratio : 1.0462749481201172\n",
      "New target: 0x91aefcfe71a1e80000000000000000000000000000000000000000000000\n",
      "--------------\n",
      "Block n°5\n",
      "Nonce: 230691\n",
      "Proof-of-work: 000082a45290fed1f65ff87d1598fc246d9eb0530c84998cdd486252c28872a3\n",
      "Elapsed time: 25.355647563934326\n",
      "ratio : 5.071129512786865\n",
      "New target: 0x2e2c7b733a332000000000000000000000000000000000000000000000000\n",
      "--------------\n"
     ]
    }
   ],
   "source": [
    "# Function adaptating difficulty by changing the target value\n",
    "def adapt_difficulty(pickled_block, initial_target, target_time = 5, number_of_tries = 10, nonce = 1):\n",
    "    target = initial_target\n",
    "    timer = 0\n",
    "    ratio = 1\n",
    "\n",
    "    #loop\n",
    "    for i in range(number_of_tries):\n",
    "        print(\"Block n°\" + str(i+1))\n",
    "        timer = proof_of_work(pickled_block, target, nonce)\n",
    "        ratio = timer / target_time\n",
    "        \n",
    "        target = int(target * ratio)\n",
    "        print(\"ratio : \" + str(ratio))\n",
    "        print(\"New target: \" + hex(target))\n",
    "        print(\"--------------\")\n",
    "        timer = 0\n",
    "\n",
    "\n",
    "#TEST :\n",
    "adapt_difficulty(pickled_block, int(\"0x0000ffffffffffffffffffffffffffffffffffffffffffffffffffffffffffff\", 16), target_time = 5, number_of_tries = 5)\n",
    "\n"
   ]
  },
  {
   "cell_type": "markdown",
   "id": "3cb9c904",
   "metadata": {},
   "source": [
    "### Question 3"
   ]
  },
  {
   "cell_type": "markdown",
   "id": "a56279ca",
   "metadata": {},
   "source": [
    "**Answered on the Word file.**"
   ]
  }
 ],
 "metadata": {
  "kernelspec": {
   "display_name": "base",
   "language": "python",
   "name": "python3"
  },
  "language_info": {
   "codemirror_mode": {
    "name": "ipython",
    "version": 3
   },
   "file_extension": ".py",
   "mimetype": "text/x-python",
   "name": "python",
   "nbconvert_exporter": "python",
   "pygments_lexer": "ipython3",
   "version": "3.13.5"
  }
 },
 "nbformat": 4,
 "nbformat_minor": 5
}
