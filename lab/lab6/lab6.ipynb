{
 "cells": [
  {
   "cell_type": "markdown",
   "id": "ad2f52bd",
   "metadata": {},
   "source": [
    "# Lab6"
   ]
  },
  {
   "cell_type": "markdown",
   "id": "4d117c0b",
   "metadata": {},
   "source": [
    "The lab6 was executed online on [Remix Ethereum](https://remix.ethereum.org/). The solidity contract can be find on [1_Storage.sol](./1_Storage.sol) file"
   ]
  }
 ],
 "metadata": {
  "kernelspec": {
   "display_name": "base",
   "language": "python",
   "name": "python3"
  },
  "language_info": {
   "name": "python",
   "version": "3.13.5"
  }
 },
 "nbformat": 4,
 "nbformat_minor": 5
}
