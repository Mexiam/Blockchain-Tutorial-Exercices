{
 "cells": [
  {
   "cell_type": "markdown",
   "id": "68506d8d",
   "metadata": {},
   "source": [
    "Lab5"
   ]
  },
  {
   "cell_type": "code",
   "execution_count": 2,
   "id": "10b8a586",
   "metadata": {},
   "outputs": [
    {
     "name": "stdout",
     "output_type": "stream",
     "text": [
      "b'\\x80\\x04\\x95\\xba\\x00\\x00\\x00\\x00\\x00\\x00\\x00}\\x94(\\x8c\\ttimestamp\\x94GA\\xd7$\\xfdJfA\\xe1\\x8c\\x0ctransactions\\x94]\\x94(\\x8c\\x01a\\x94\\x8c\\x01b\\x94\\x8c\\x01c\\x94e\\x8c\\tprev_hash\\x94\\x8c@00574faf29dbb37a3b12c2f8f5c05cf03c708313d4ad1d5d968cd2438beea104\\x94\\x8c\\x0bmerkle_root\\x94\\x8c!aa0522a507b6499cb3512494908ac9220\\x94u.'\n"
     ]
    }
   ],
   "source": [
    "# we will need pickle to turn our block into a byte object\n",
    "# sha256 operates one byte at a time\n",
    "import hashlib\n",
    "import pickle\n",
    "\n",
    "# create a new block using sample values\n",
    "block = {   'timestamp': 1553200425.597771,\n",
    "            'transactions': ['a','b','c'],\n",
    "            'prev_hash': '00574faf29dbb37a3b12c2f8f5c05cf03c708313d4ad1d5d968cd2438beea104',\n",
    "            'merkle_root': 'aa0522a507b6499cb3512494908ac9220',\n",
    "        }\n",
    "\n",
    "# pickle the block\n",
    "pickled_block = pickle.dumps(block)\n",
    "print(pickled_block)"
   ]
  },
  {
   "cell_type": "code",
   "execution_count": 3,
   "id": "b0c96fb6",
   "metadata": {},
   "outputs": [
    {
     "name": "stdout",
     "output_type": "stream",
     "text": [
      "533f71d73de65feec417737ce40b8cbf7cfe150c81d5703fb28cf07cef0618f1\n"
     ]
    }
   ],
   "source": [
    "# hash the block and output a digest of hexidecimal digits\n",
    "hashed_block = hashlib.sha256(pickled_block).hexdigest()\n",
    "print(hashed_block)"
   ]
  },
  {
   "cell_type": "code",
   "execution_count": 4,
   "id": "9fb2456e",
   "metadata": {},
   "outputs": [
    {
     "name": "stdout",
     "output_type": "stream",
     "text": [
      "0_block_nonce\n",
      "1_block_nonce\n",
      "2_block_nonce\n",
      "3_block_nonce\n",
      "4_block_nonce\n",
      "5_block_nonce\n",
      "6_block_nonce\n",
      "7_block_nonce\n",
      "8_block_nonce\n",
      "9_block_nonce\n",
      "10_block_nonce\n",
      "11_block_nonce\n",
      "12_block_nonce\n",
      "13_block_nonce\n",
      "14_block_nonce\n",
      "15_block_nonce\n"
     ]
    }
   ],
   "source": [
    "# choose 16 because a hex output has 16 digits\n",
    "for nonce in range(16):\n",
    "    print(str(nonce)+'_block_nonce')"
   ]
  },
  {
   "cell_type": "code",
   "execution_count": 5,
   "id": "0be1d74b",
   "metadata": {},
   "outputs": [
    {
     "name": "stdout",
     "output_type": "stream",
     "text": [
      "3dd1f24bf0a4e624a2cb40919297bf1b7d7c5e48b3ca395c6e61ee2ad8f51637\n",
      "2732ba4727c3a2b9b0244654affb31545168a504193a85ec86e63c37b1752190\n",
      "22be81a20ce2c6de24d1e95d223290f5cc87c866c02a92f70b0a49c0ec337215\n",
      "4faa8101f2776b329ae6da3c973b6e74a54e963a110d92f53d7b20a82c38fddc\n",
      "3e557abe5079371b8eff947c1a5c69982a69c7e2e486d89cd3b979352ac0ee8a\n",
      "422f4b4bc2e211b4964a79e25c2f23b14dab189693ae9ced01068159857a7c9c\n",
      "3843b8dc09f93eb2e3b39654486d80ee0f6d3b2cd573554a7ab9ff3397c5b6ed\n",
      "22ea30afd6c105358926b5f7d72ca6944aaee7c9865d1d50653c5c0159763db9\n",
      "b5e24d04ae74a1fc754882215e22ceb40a4257910a7fc17b81ae5689f0f8d92e\n",
      "a287c7cacb668082e4a2eebbb74c65e01019fc8c9e1c43a87f8601de189026fd\n",
      "b50e1115525a09d3c5ed5015c369b1f3278d5a3289de28c99104b7e9de1d7110\n",
      "091c41e1694a6cf7da4a3b5df8e9656cec6f118ddb19fa733849270d3d084e8d\n",
      "76793ad61014322d0bc5d25ff5b60d2f136d7e63cc367032224ee356920c8c19\n",
      "843f1603f6b8e455ac429bb3d7d298ccb5e68f3c4dec5b7211ae717c721e8e2d\n",
      "a858f37660f2466f26b167b36017509ccf6a586dc6b354d5c362a32302350e7c\n",
      "82cba63d49f0f1db07006a83314c9489b8359dc74a52bae256a71946634afd64\n"
     ]
    }
   ],
   "source": [
    "for nonce in range(16):  \n",
    "    print(hashlib.sha256((str(nonce)+'block_nonce').encode()).hexdigest())"
   ]
  },
  {
   "cell_type": "code",
   "execution_count": 6,
   "id": "22edc34d",
   "metadata": {},
   "outputs": [
    {
     "name": "stdout",
     "output_type": "stream",
     "text": [
      "3dd1f24bf0a4e624a2cb40919297bf1b7d7c5e48b3ca395c6e61ee2ad8f51637\n",
      "2732ba4727c3a2b9b0244654affb31545168a504193a85ec86e63c37b1752190\n",
      "22be81a20ce2c6de24d1e95d223290f5cc87c866c02a92f70b0a49c0ec337215\n",
      "4faa8101f2776b329ae6da3c973b6e74a54e963a110d92f53d7b20a82c38fddc\n",
      "3e557abe5079371b8eff947c1a5c69982a69c7e2e486d89cd3b979352ac0ee8a\n",
      "422f4b4bc2e211b4964a79e25c2f23b14dab189693ae9ced01068159857a7c9c\n",
      "3843b8dc09f93eb2e3b39654486d80ee0f6d3b2cd573554a7ab9ff3397c5b6ed\n",
      "22ea30afd6c105358926b5f7d72ca6944aaee7c9865d1d50653c5c0159763db9\n",
      "b5e24d04ae74a1fc754882215e22ceb40a4257910a7fc17b81ae5689f0f8d92e\n",
      "a287c7cacb668082e4a2eebbb74c65e01019fc8c9e1c43a87f8601de189026fd\n",
      "b50e1115525a09d3c5ed5015c369b1f3278d5a3289de28c99104b7e9de1d7110\n",
      "091c41e1694a6cf7da4a3b5df8e9656cec6f118ddb19fa733849270d3d084e8d\n",
      "Block Found!\n"
     ]
    }
   ],
   "source": [
    "# set the number of leading zeroes\n",
    "target = 1\n",
    "\n",
    "# loop through the hashes checking each one\n",
    "for nonce in range(16):  \n",
    "    hash = hashlib.sha256((str(nonce)+'block_nonce').encode()).hexdigest()\n",
    "    print(str(hash))\n",
    "    \n",
    "    # check the string up to the indexed difficulty and compare\n",
    "    # note python string manipulation: '0'*5 = 00000; this is string multiplication\n",
    "    if hash[:target] == '0'*target:\n",
    "        print('Block Found!')\n",
    "        break\n",
    "        \n",
    "    # end of range condition\n",
    "    if nonce == 15: print('Block not found')"
   ]
  },
  {
   "cell_type": "code",
   "execution_count": 10,
   "id": "b0d44191",
   "metadata": {},
   "outputs": [
    {
     "name": "stdout",
     "output_type": "stream",
     "text": [
      "Target Difficulty: 4\n",
      "Nonce: 67220\n",
      "Proof-of-work: 00003927c8d89164725943089548e9f743623463c2e4fca55e32ba202b46ea45\n"
     ]
    }
   ],
   "source": [
    "# !!caution!! - setting difficulty too high could result in waiting until the heat death of the universe to find your block\n",
    "target = 4 # powers of sixteen\n",
    "nonce = 1\n",
    "block_found = False\n",
    "\n",
    "# this will loop until a block is found\n",
    "while block_found == False:\n",
    "    # add a nonce value to the block, here it is prepended\n",
    "    work = hashlib.sha256(bytes(nonce) + pickled_block)\n",
    "    \n",
    "    # check to see if the hash meets the target\n",
    "    if work.hexdigest()[:target] == '0'*target:\n",
    "        block_found = True\n",
    "        \n",
    "        # output some data\n",
    "        print('Target Difficulty: ' + str(target))\n",
    "        print('Nonce: ' + str(nonce))\n",
    "        print('Proof-of-work: ' + work.hexdigest())\n",
    "        \n",
    "    # update the nonce before looping\n",
    "    # this ensures the block is different before it is hashed again    \n",
    "    nonce += 1\n",
    "\n",
    "# Change the difficulty value and compare output (and time)\n",
    "# you may have to wait 10-20 seconds for output to appear below."
   ]
  },
  {
   "cell_type": "code",
   "execution_count": 11,
   "id": "751ed1b9",
   "metadata": {},
   "outputs": [
    {
     "name": "stdout",
     "output_type": "stream",
     "text": [
      "Target Difficulty: 4\n",
      "Nonce: 67220\n",
      "Proof-of-work: 00003927c8d89164725943089548e9f743623463c2e4fca55e32ba202b46ea45\n",
      "Elapsed time: 2.4948885440826416\n"
     ]
    }
   ],
   "source": [
    "target = 4\n",
    "nonce = 1\n",
    "block_found = False\n",
    "\n",
    "# access the system clock and record the start time\n",
    "import time\n",
    "start = time.time()\n",
    "while block_found == False:\n",
    "    work = hashlib.sha256(bytes(nonce) + pickled_block)\n",
    "    if work.hexdigest()[:target] == '0'*target:\n",
    "        end = time.time()\n",
    "        block_found = True\n",
    "        print('Target Difficulty: ' + str(target))\n",
    "        print('Nonce: ' + str(nonce))\n",
    "        print('Proof-of-work: ' + work.hexdigest())\n",
    "        \n",
    "        # calculate and print the time; this will output in seconds\n",
    "        print('Elapsed time: ' + str(end - start))\n",
    "    nonce += 1"
   ]
  },
  {
   "cell_type": "code",
   "execution_count": 17,
   "id": "60fb7407",
   "metadata": {},
   "outputs": [
    {
     "name": "stdout",
     "output_type": "stream",
     "text": [
      "Target Difficulty: 4\n",
      "Nonce: 25600\n",
      "Proof-of-work: 000061042fc4deca14737b0a2d103637abb99db16cf8c317e382f86107de5e88\n",
      "Elapsed time: 0.4278385639190674\n"
     ]
    }
   ],
   "source": [
    "# secrets provides access to a secure random number generator. \n",
    "# Refer to documentation for what this means. \n",
    "# Always be cautious when generating random data for important purposes like keys.\n",
    "import secrets\n",
    "# generate random data to append to a block\n",
    "random_data = secrets.token_bytes(4)\n",
    "\n",
    "target = 4\n",
    "nonce = 1\n",
    "block_found = False\n",
    "start = time.time()\n",
    "while block_found == False:\n",
    "    # the block now contains 4 random bytes of data\n",
    "    work = hashlib.sha256(bytes(nonce) + pickled_block + random_data)\n",
    "    if work.hexdigest()[:target] == '0'*target:\n",
    "        end = time.time()\n",
    "        block_found = True\n",
    "        print('Target Difficulty: '+ str(target))\n",
    "        print('Nonce: ' + str(nonce))\n",
    "        print('Proof-of-work: ' + work.hexdigest())\n",
    "        print('Elapsed time: ' + str(end - start))\n",
    "    nonce += 1"
   ]
  },
  {
   "cell_type": "code",
   "execution_count": 18,
   "id": "cb54cdb2",
   "metadata": {},
   "outputs": [
    {
     "name": "stdout",
     "output_type": "stream",
     "text": [
      "310338180674118587457206844748640968959780028040609792\n",
      "0x33d760000000000000000000000000000000000000000\n",
      "19\n",
      "0x000000000000000000033d760000000000000000000000000000000000000000\n"
     ]
    }
   ],
   "source": [
    "co = 0x033d76\n",
    "ex = 0x17\n",
    "target = co * 2 ** (8 *(ex - 0x3))\n",
    "\n",
    "print(target)\n",
    "print(hex(target))\n",
    "\n",
    "num_zeros = 64 - len(hex(target)[2:])\n",
    "target = '0x'+'0'*num_zeros + hex(target)[2:]\n",
    "\n",
    "print(num_zeros)\n",
    "print(target)"
   ]
  },
  {
   "cell_type": "code",
   "execution_count": 19,
   "id": "c787ae85",
   "metadata": {},
   "outputs": [
    {
     "name": "stdout",
     "output_type": "stream",
     "text": [
      "0.0625\n"
     ]
    }
   ],
   "source": [
    "# one leading zero to start\n",
    "diff = 1\n",
    "prob = 1/16\n",
    "print(prob)"
   ]
  },
  {
   "cell_type": "code",
   "execution_count": 21,
   "id": "e9b53707",
   "metadata": {},
   "outputs": [
    {
     "name": "stdout",
     "output_type": "stream",
     "text": [
      "0.00390625\n"
     ]
    }
   ],
   "source": [
    "# one leading zero to start\n",
    "diff = 2\n",
    "prob = 1/(16**diff)\n",
    "print(prob)"
   ]
  },
  {
   "cell_type": "code",
   "execution_count": 22,
   "id": "6c6cff00",
   "metadata": {},
   "outputs": [
    {
     "name": "stdout",
     "output_type": "stream",
     "text": [
      "0.06250000000000000000\n",
      "0.00390625000000000000\n",
      "0.00024414062500000000\n",
      "0.00001525878906250000\n",
      "0.00000095367431640625\n",
      "0.00000005960464477539\n",
      "0.00000000372529029846\n",
      "0.00000000023283064365\n",
      "0.00000000001455191523\n",
      "0.00000000000090949470\n",
      "0.00000000000005684342\n",
      "0.00000000000000355271\n",
      "0.00000000000000022204\n",
      "0.00000000000000001388\n",
      "0.00000000000000000087\n"
     ]
    }
   ],
   "source": [
    "#loop through a range and print the results\n",
    "#range(start,stop,step)\n",
    "for diff in range(1,16,1):\n",
    "  prob = 1/(16**diff)\n",
    "  #formatted to show the relative value\n",
    "  print(\"%.20f\" % prob)"
   ]
  },
  {
   "cell_type": "code",
   "execution_count": 23,
   "id": "3aa91da2",
   "metadata": {},
   "outputs": [
    {
     "name": "stdout",
     "output_type": "stream",
     "text": [
      "[0.0625, 0.00390625, 0.000244140625, 1.52587890625e-05, 9.5367431640625e-07, 5.960464477539063e-08, 3.725290298461914e-09, 2.3283064365386963e-10, 1.4551915228366852e-11, 9.094947017729282e-13]\n"
     ]
    }
   ],
   "source": [
    "prob=[]\n",
    "for diff in range(1,11,1):\n",
    "  prob.append(1/(16**diff))\n",
    "print(prob)"
   ]
  },
  {
   "cell_type": "code",
   "execution_count": 24,
   "id": "6d4e6f3a",
   "metadata": {},
   "outputs": [
    {
     "data": {
      "image/png": "[encoded data removed]",
      "text/plain": [
       "<Figure size 640x480 with 1 Axes>"
      ]
     },
     "metadata": {},
     "output_type": "display_data"
    }
   ],
   "source": [
    "#plot using matplotlib\n",
    "import matplotlib.pyplot as plt\n",
    "import numpy as np\n",
    "%matplotlib inline\n",
    "fig = plt.figure()\n",
    "ax = fig.add_axes([0,0,1,1])\n",
    "ax.set_xlabel('difficulty')\n",
    "ax.set_ylabel('probability')\n",
    "ax.plot(prob,'y*')\n",
    "\n",
    "ax.text(0, prob[0], f'{(0, prob[0])}', ha='left', va='bottom')\n",
    "plt.show()"
   ]
  },
  {
   "cell_type": "code",
   "execution_count": 25,
   "id": "cd4d04be",
   "metadata": {},
   "outputs": [
    {
     "name": "stdout",
     "output_type": "stream",
     "text": [
      "26959535291011309493156476344723991336010898738574164086137773096960\n"
     ]
    }
   ],
   "source": [
    "# calculate bitcoin's difficulty\n",
    "# the maximum target value which was set for the very first block\n",
    "# 0x00000000ffff0000000000000000000000000000000000000000000000000000 (in hex)\n",
    "set_size = 0x00000000ffff0000000000000000000000000000000000000000000000000000\n",
    "print(set_size)\n",
    "# print(set_s)"
   ]
  },
  {
   "cell_type": "code",
   "execution_count": 26,
   "id": "5f58d2d2",
   "metadata": {},
   "outputs": [
    {
     "name": "stdout",
     "output_type": "stream",
     "text": [
      "310338180674118587457206844748640968959780028040609792\n"
     ]
    }
   ],
   "source": [
    "# recently found block's proof of work (copied from web for block 856861)\n",
    "target = 0x000000000000000000033d760000000000000000000000000000000000000000\n",
    "# print in decimal\n",
    "print(target)"
   ]
  },
  {
   "cell_type": "code",
   "execution_count": 27,
   "id": "ec067ede",
   "metadata": {},
   "outputs": [
    {
     "name": "stdout",
     "output_type": "stream",
     "text": [
      "86871474313761.95\n"
     ]
    }
   ],
   "source": [
    "# calculate difficulty value\n",
    "difficulty = set_size / target\n",
    "print(difficulty)"
   ]
  },
  {
   "cell_type": "code",
   "execution_count": null,
   "id": "a545a368",
   "metadata": {},
   "outputs": [],
   "source": []
  }
 ],
 "metadata": {
  "kernelspec": {
   "display_name": "base",
   "language": "python",
   "name": "python3"
  },
  "language_info": {
   "codemirror_mode": {
    "name": "ipython",
    "version": 3
   },
   "file_extension": ".py",
   "mimetype": "text/x-python",
   "name": "python",
   "nbconvert_exporter": "python",
   "pygments_lexer": "ipython3",
   "version": "3.13.5"
  }
 },
 "nbformat": 4,
 "nbformat_minor": 5
}
