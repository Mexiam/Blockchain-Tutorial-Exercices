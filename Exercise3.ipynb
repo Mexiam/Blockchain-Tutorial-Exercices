{
 "cells": [
  {
   "cell_type": "markdown",
   "id": "a5e16c21",
   "metadata": {},
   "source": [
    "# Exercise 3"
   ]
  },
  {
   "cell_type": "markdown",
   "id": "9ee33c9b",
   "metadata": {},
   "source": [
    "*I made this exercice with code of the lab9 and 10, modified for the exercises : [Link for Lab9-10](lab/lab9-10/my-nft-app/).*"
   ]
  }
 ],
 "metadata": {
  "language_info": {
   "name": "python"
  }
 },
 "nbformat": 4,
 "nbformat_minor": 5
}
