{
 "cells": [
  {
   "cell_type": "markdown",
   "id": "5f600542",
   "metadata": {},
   "source": [
    "# Exercice 2"
   ]
  },
  {
   "cell_type": "markdown",
   "id": "b06b32e6",
   "metadata": {},
   "source": [
    "*I made this exercice with code of the lab6 : [Link for Lab6](lab\\lab6\\lab6.ipynb)*"
   ]
  }
 ],
 "metadata": {
  "kernelspec": {
   "display_name": "base",
   "language": "python",
   "name": "python3"
  },
  "language_info": {
   "name": "python",
   "version": "3.13.5"
  }
 },
 "nbformat": 4,
 "nbformat_minor": 5
}
